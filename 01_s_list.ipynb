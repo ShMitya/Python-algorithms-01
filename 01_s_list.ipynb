{
 "cells": [
  {
   "cell_type": "code",
   "execution_count": 1,
   "metadata": {},
   "outputs": [],
   "source": [
    "class Node:\n",
    "    def __init__(self, v):\n",
    "        self.value = v\n",
    "        self.next = None"
   ]
  },
  {
   "cell_type": "code",
   "execution_count": 2,
   "metadata": {},
   "outputs": [],
   "source": [
    "n1 = Node(12)\n",
    "n2 = Node(55)\n",
    "n1.next = n2"
   ]
  },
  {
   "cell_type": "code",
   "execution_count": 3,
   "metadata": {},
   "outputs": [],
   "source": [
    "class LinkedList:  \n",
    "    def __init__(self):\n",
    "        self.head = None\n",
    "        self.tail = None\n",
    "        \n",
    "    def add_in_tail(self, item):\n",
    "        if self.head is None:\n",
    "            self.head = item\n",
    "        else:\n",
    "            self.tail.next = item\n",
    "        self.tail = item\n",
    "    \n",
    "    def print_all_nodes(self):\n",
    "        node = self.head\n",
    "        while node is not None:\n",
    "            print(node.value)\n",
    "            node = node.next\n",
    "            \n",
    "    def find(self, val):\n",
    "        node = self.head\n",
    "        while node is not None:\n",
    "            if node.value == val:\n",
    "                return node\n",
    "            node = node.next\n",
    "        return None\n",
    "    \n",
    "    def delete(self, val, all=False):\n",
    "        node = self.head\n",
    "        \n",
    "        # особое правило для головы:\n",
    "        if node is not None and node.value == val:\n",
    "            if all == True:\n",
    "                while node is not None and node.value == val:\n",
    "                    if self.head.next == None:\n",
    "                        self.head = None\n",
    "                        self.tail = None\n",
    "                    elif self.head.next.next == None:\n",
    "                        self.head = node.next\n",
    "                        self.tail = None\n",
    "                    else:\n",
    "                        self.head = node.next\n",
    "                    node = node.next\n",
    "            elif all == False:\n",
    "                if self.head.next == None:\n",
    "                    self.head = None\n",
    "                    self.tail = None\n",
    "                elif self.head.next.next == None:\n",
    "                    self.head = node.next\n",
    "                    self.tail = None\n",
    "                else:\n",
    "                    self.head = node.next\n",
    "                    \n",
    "        else:\n",
    "            # для остальных узлов:\n",
    "            while node and node.next is not None:\n",
    "                if node.next.value == val and all == False:\n",
    "                    if node.next.next == None:\n",
    "                        node.next = None\n",
    "                        self.tail = None\n",
    "                    else:\n",
    "                        node.next = node.next.next               \n",
    "                    return None\n",
    "                elif all == True: \n",
    "                    while node and node.next is not None and node.next.value == val:\n",
    "                        if node.next.next == None:\n",
    "                            node.next = None\n",
    "                            self.tail = None\n",
    "                            \n",
    "                        else:\n",
    "                            node.next = node.next.next\n",
    "                node = node.next\n",
    "            return None\n",
    "    \n",
    "    def clean (self):\n",
    "        self.head= None\n",
    "        self.tail= None\n",
    "        \n",
    "            \n",
    "    def find_all(self, val):\n",
    "        node = self.head\n",
    "        node_list = []\n",
    "        while node is not None:\n",
    "            if node.value == val:\n",
    "                node_list.append(val)                \n",
    "            node = node.next\n",
    "        return node_list\n",
    "    \n",
    "    def len(self):\n",
    "        node = self.head\n",
    "        i = 0\n",
    "        while node is not None:\n",
    "            i+=1\n",
    "            node=node.next\n",
    "        return i\n",
    "    \n",
    "    def insert(self, afterNode, newNode):\n",
    "        if self.head is None and afterNode == None:\n",
    "            self.head = Node (newNode)\n",
    "               \n",
    "        node = self.head\n",
    "        while node is not None:\n",
    "            if node.value == afterNode:\n",
    "                newNode_next = node.next\n",
    "                node.next = Node(newNode)\n",
    "                node.next.next = newNode_next\n",
    "                if node.next.next == None:\n",
    "                    self.tail = node.next                    \n",
    "                return None\n",
    "            node = node.next\n",
    "            \n",
    "    def make_list(self):\n",
    "        list = []\n",
    "        node = self.head\n",
    "        while node is not None:\n",
    "            list.append(node.value)\n",
    "            node = node.next\n",
    "        return list"
   ]
  },
  {
   "cell_type": "code",
   "execution_count": 29,
   "metadata": {},
   "outputs": [
    {
     "name": "stdout",
     "output_type": "stream",
     "text": [
      "[1, 99, 55, 11, 128]\n",
      "[]\n",
      "[1, 99]\n",
      "[1, 99, 55]\n",
      "[99, 99, 99, 99, 99, 99]\n"
     ]
    }
   ],
   "source": [
    "# списки для тестирования\n",
    "s_list = LinkedList()\n",
    "s_list.add_in_tail(Node(1))\n",
    "s_list.add_in_tail(Node(99))\n",
    "s_list.add_in_tail(Node(55))\n",
    "s_list.add_in_tail(Node(11))\n",
    "s_list.add_in_tail(Node(128))\n",
    "list = s_list.make_list()\n",
    "print (list)\n",
    "\n",
    "s_list_empty = LinkedList()\n",
    "s_list_empty.print_all_nodes()\n",
    "list_empty = s_list_empty.make_list()\n",
    "print (list_empty)\n",
    "\n",
    "s_list_one = LinkedList()\n",
    "s_list_one.add_in_tail(Node(1))\n",
    "s_list_one.add_in_tail(Node(99))\n",
    "list_one = s_list_one.make_list()\n",
    "print (list_one)\n",
    "\n",
    "s_list_two = LinkedList()\n",
    "s_list_two.add_in_tail(Node(1))\n",
    "s_list_two.add_in_tail(Node(99))\n",
    "s_list_two.add_in_tail(Node(55))\n",
    "list_two = s_list_two.make_list()\n",
    "print (list_two)\n",
    "\n",
    "s_list_set = LinkedList()\n",
    "s_list_set.add_in_tail(Node(99))\n",
    "s_list_set.add_in_tail(Node(99))\n",
    "s_list_set.add_in_tail(Node(99))\n",
    "s_list_set.add_in_tail(Node(99))\n",
    "s_list_set.add_in_tail(Node(99))\n",
    "s_list_set.add_in_tail(Node(99))\n",
    "list_set = s_list_set.make_list()\n",
    "print (list_set)"
   ]
  },
  {
   "cell_type": "code",
   "execution_count": 13,
   "metadata": {},
   "outputs": [
    {
     "name": "stdout",
     "output_type": "stream",
     "text": [
      "Тест удаления all = False\n",
      "Пройден [1, 55, 11, 128] head 1 tail 128\n",
      "Пройден [] head None tail None\n",
      "Пройден [1] head <__main__.Node object at 0x000001D0C009E320> tail None\n",
      "Пройден [1, 55] head 1 tail 55\n"
     ]
    }
   ],
   "source": [
    "print ('Тест удаления all = False')\n",
    "for is_list in [s_list, s_list_empty, s_list_one, s_list_two]:\n",
    "    is_list.delete(99, all = False)\n",
    "    list = is_list.make_list()\n",
    "    if 99 not in list:\n",
    "        try:\n",
    "            print ('Пройден', list, 'head',is_list.head.value, 'tail', is_list.tail.value)\n",
    "        except AttributeError:\n",
    "            print ('Пройден', list, 'head',is_list.head, 'tail',is_list.tail)\n",
    "    else:\n",
    "        print ('Провален', list)"
   ]
  },
  {
   "cell_type": "code",
   "execution_count": 17,
   "metadata": {},
   "outputs": [
    {
     "name": "stdout",
     "output_type": "stream",
     "text": [
      "Тест удаления all = True\n",
      "Пройден [1, 55, 11, 128] head 1 tail 128\n",
      "Пройден [] head None tail None\n",
      "Пройден [1] head <__main__.Node object at 0x000001D0C009E588> tail None\n",
      "Пройден [1, 55] head 1 tail 55\n",
      "Пройден [] head None tail None\n"
     ]
    }
   ],
   "source": [
    "print ('Тест удаления all = True')\n",
    "for is_list in [s_list, s_list_empty, s_list_one, s_list_two, s_list_set]:\n",
    "    is_list.delete(99, all = True)\n",
    "    list = is_list.make_list()\n",
    "    if 99 not in list:\n",
    "        try:\n",
    "            print ('Пройден', list, 'head', is_list.head.value, 'tail',is_list.tail.value)\n",
    "        except AttributeError:\n",
    "            print ('Пройден', list, 'head', is_list.head, 'tail',is_list.tail)\n",
    "    else:\n",
    "        print ('Провален', list)"
   ]
  },
  {
   "cell_type": "code",
   "execution_count": 19,
   "metadata": {},
   "outputs": [
    {
     "name": "stdout",
     "output_type": "stream",
     "text": [
      "Тест очистки\n",
      "Пройден []\n",
      "Пройден []\n",
      "Пройден []\n",
      "Пройден []\n",
      "Пройден []\n"
     ]
    }
   ],
   "source": [
    "print ('Тест очистки')\n",
    "for is_list in [s_list, s_list_empty, s_list_one, s_list_two, s_list_set]:\n",
    "    is_list.clean()\n",
    "    list = is_list.make_list()\n",
    "    if len(list)==0:\n",
    "        print ('Пройден', list)\n",
    "    else:\n",
    "        print ('Провален', list)"
   ]
  },
  {
   "cell_type": "code",
   "execution_count": 21,
   "metadata": {},
   "outputs": [
    {
     "name": "stdout",
     "output_type": "stream",
     "text": [
      "Тест find_all\n",
      "Пройден [99]\n",
      "Пройден []\n",
      "Пройден [99]\n",
      "Пройден [99]\n",
      "Пройден [99, 99, 99, 99, 99, 99]\n"
     ]
    }
   ],
   "source": [
    "print ('Тест find_all')\n",
    "for is_list in [s_list, s_list_empty, s_list_one, s_list_two, s_list_set]:\n",
    "    list_found = is_list.find_all(99)\n",
    "    list_to_compare =  [x for x in is_list.make_list() if x == 99]\n",
    "    if list_found == list_to_compare:\n",
    "        print ('Пройден', list_found)\n",
    "    else:\n",
    "        print ('Провален', list_found)"
   ]
  },
  {
   "cell_type": "code",
   "execution_count": 23,
   "metadata": {},
   "outputs": [
    {
     "name": "stdout",
     "output_type": "stream",
     "text": [
      "Тест len\n",
      "Пройден 5\n",
      "Пройден 0\n",
      "Пройден 2\n",
      "Пройден 3\n",
      "Пройден 6\n"
     ]
    }
   ],
   "source": [
    "print ('Тест len')\n",
    "for is_list in [s_list, s_list_empty, s_list_one, s_list_two, s_list_set]:\n",
    "    len_s_list = is_list.len()\n",
    "    len_to_compare =  len(is_list.make_list())\n",
    "    if len_s_list == len_to_compare:\n",
    "        print ('Пройден', len_s_list)\n",
    "    else:\n",
    "        print ('Провален', len_s_list)"
   ]
  },
  {
   "cell_type": "code",
   "execution_count": 28,
   "metadata": {},
   "outputs": [
    {
     "name": "stdout",
     "output_type": "stream",
     "text": [
      "Тест insert\n",
      "Пройден [1, 99, 666, 666, 55, 11, 128] head 1 tail 128\n",
      "Пройден [1, 99, 666, 666] head 1 tail 666\n",
      "Пройден [1, 99, 666, 666, 55] head 1 tail 55\n"
     ]
    }
   ],
   "source": [
    "print ('Тест insert')\n",
    "for is_list in [s_list, s_list_one, s_list_two]:\n",
    "    list_to_compare = is_list.make_list()\n",
    "    list_to_compare.insert(2,666)\n",
    "    is_list.insert (99, 666)\n",
    "    list_inserted =  is_list.make_list()\n",
    "    if list_inserted == list_to_compare:\n",
    "        print ('Пройден', list_inserted, 'head', is_list.head.value , 'tail', is_list.tail.value)\n",
    "    else:\n",
    "        print ('Провален', is_list.head, 'tail', is_list.tail)"
   ]
  },
  {
   "cell_type": "code",
   "execution_count": null,
   "metadata": {},
   "outputs": [],
   "source": []
  }
 ],
 "metadata": {
  "kernelspec": {
   "display_name": "Python 3",
   "language": "python",
   "name": "python3"
  },
  "language_info": {
   "codemirror_mode": {
    "name": "ipython",
    "version": 3
   },
   "file_extension": ".py",
   "mimetype": "text/x-python",
   "name": "python",
   "nbconvert_exporter": "python",
   "pygments_lexer": "ipython3",
   "version": "3.6.5"
  }
 },
 "nbformat": 4,
 "nbformat_minor": 2
}
