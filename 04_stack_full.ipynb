{
 "cells": [
  {
   "cell_type": "code",
   "execution_count": 2,
   "metadata": {},
   "outputs": [],
   "source": [
    "# Стек, работающий с головы\n",
    "\n",
    "class Node:\n",
    "    def __init__(self, v):\n",
    "        self.value = v\n",
    "        self.prev = None\n",
    "        self.next = None\n",
    "        \n",
    "class Stack:\n",
    "    def __init__(self):\n",
    "        self.head = None\n",
    "        self.tail = None\n",
    "\n",
    "    def size (self):\n",
    "        node = self.head\n",
    "        i = 0\n",
    "        while node is not None:\n",
    "            i+=1\n",
    "            node = node.next\n",
    "        return i\n",
    "    \n",
    "    def push(self, value):\n",
    "        newNode = Node (value)\n",
    "        \n",
    "        if self.head is None:\n",
    "            self.head = newNode\n",
    "            newNode.prev = None\n",
    "            newNode.next = None\n",
    "            self.tail = self.head\n",
    "        else:\n",
    "            node = self.head\n",
    "            self.head = newNode\n",
    "            self.head.next = node\n",
    "            node.prev = self.head \n",
    "          \n",
    "    def pop (self):\n",
    "        node_to_pop = self.head\n",
    "        \n",
    "        if self.head is not None:\n",
    "            if self.head.next is not None:\n",
    "                self.head = self.head.next\n",
    "                self.head.prev = None                \n",
    "            else:\n",
    "                self.tail = None\n",
    "                self.head = None\n",
    "            return node_to_pop.value\n",
    "        else:\n",
    "            return None\n",
    "                    \n",
    "    def peek (self):\n",
    "        if self.head is not None:\n",
    "            return self.head.value\n",
    "        else:\n",
    "            return None"
   ]
  },
  {
   "cell_type": "code",
   "execution_count": 88,
   "metadata": {},
   "outputs": [
    {
     "name": "stdout",
     "output_type": "stream",
     "text": [
      "Тест Push и Pop и Size\n",
      "Проверка равенства листов [0, 1, 2, 3, 4, 5, 6, 7, 8, 9] [0, 1, 2, 3, 4, 5, 6, 7, 8, 9]\n"
     ]
    }
   ],
   "source": [
    "print ('Тест Push и Pop и Size')\n",
    "stack_to_test = Stack()\n",
    "list_to_compare = list(range(10))\n",
    "for i in list_to_compare:\n",
    "    stack_to_test.push(i)\n",
    "list_to_compare2 = []\n",
    "while stack_to_test.size() > 0:\n",
    "    list_to_compare2.append(stack_to_test.pop())\n",
    "print ('Проверка равенства листов', list_to_compare, [x for x in reversed(list_to_compare2)])"
   ]
  },
  {
   "cell_type": "code",
   "execution_count": 89,
   "metadata": {},
   "outputs": [
    {
     "name": "stdout",
     "output_type": "stream",
     "text": [
      "Тест Peek пустой стэк\n",
      "Тест пройден\n",
      "------------------------------------------------------------------------------------------------\n",
      "Тест Peek стэк 1 значение\n",
      "Тест пройден\n",
      "------------------------------------------------------------------------------------------------\n",
      "Тест Peek стэк много значений\n",
      "Тест пройден\n"
     ]
    }
   ],
   "source": [
    "print ('Тест Peek пустой стэк')\n",
    "stack_to_test = Stack()\n",
    "if stack_to_test.peek() is None:\n",
    "    print ('Тест пройден')\n",
    "else:\n",
    "    print ('Тест провален')\n",
    "print ('------------------------------------------------------------------------------------------------')\n",
    "print ('Тест Peek стэк 1 значение')\n",
    "stack_to_test = Stack()\n",
    "stack_to_test.push(99)\n",
    "if stack_to_test.peek() == 99:\n",
    "    print ('Тест пройден')\n",
    "else:\n",
    "    print ('Тест провален')\n",
    "print ('------------------------------------------------------------------------------------------------')\n",
    "print ('Тест Peek стэк много значений')\n",
    "stack_to_test = Stack()\n",
    "for i in range (10):\n",
    "    stack_to_test.push(i)\n",
    "if stack_to_test.peek() == 9:\n",
    "    print ('Тест пройден')\n",
    "else:\n",
    "    print ('Тест провален')"
   ]
  },
  {
   "cell_type": "code",
   "execution_count": 76,
   "metadata": {},
   "outputs": [],
   "source": [
    "# Стек, работающий с хвоста\n",
    "\n",
    "class Node:\n",
    "    def __init__(self, v):\n",
    "        self.value = v\n",
    "        self.prev = None\n",
    "        self.next = None\n",
    "        \n",
    "class Stack2:\n",
    "    def __init__(self):\n",
    "        self.head = None\n",
    "        self.tail = None\n",
    "\n",
    "    def size (self):\n",
    "        node = self.head\n",
    "        i = 0\n",
    "        while node is not None:\n",
    "            i+=1\n",
    "            node = node.next\n",
    "        return i\n",
    "    \n",
    "    def push(self, value):\n",
    "        newNode = Node (value)\n",
    "        \n",
    "        if self.head is None:\n",
    "            self.head = newNode\n",
    "            newNode.prev = None\n",
    "            newNode.next = None\n",
    "            self.tail = self.head\n",
    "        else:\n",
    "            node = self.head\n",
    "            self.head = newNode\n",
    "            self.head.next = node\n",
    "            node.prev = self.head \n",
    "          \n",
    "    def pop (self):\n",
    "        node_to_pop = self.tail\n",
    "        \n",
    "        if self.tail is not None:\n",
    "            if self.tail.prev is not None:\n",
    "                self.tail = self.tail.prev\n",
    "                self.tail.next = None                \n",
    "            else:\n",
    "                self.tail = None\n",
    "                self.head = None\n",
    "            return node_to_pop.value\n",
    "        else:\n",
    "            return None\n",
    "                    \n",
    "    def peek (self):\n",
    "        if self.tail is not None:\n",
    "            return self.tail.value\n",
    "        else:\n",
    "            return None"
   ]
  },
  {
   "cell_type": "code",
   "execution_count": 8,
   "metadata": {},
   "outputs": [
    {
     "name": "stdout",
     "output_type": "stream",
     "text": [
      "Тест Push и Pop и Size\n",
      "Проверка равенства листов [0, 1, 2, 3, 4, 5, 6, 7, 8, 9] [0, 1, 2, 3, 4, 5, 6, 7, 8, 9]\n"
     ]
    }
   ],
   "source": [
    "print ('Тест Push и Pop и Size')\n",
    "stack_to_test2 = Stack2()\n",
    "list_to_compare2 = list(range(10))\n",
    "for i in list_to_compare2:\n",
    "    stack_to_test2.push(i)\n",
    "list_to_compare2 = []\n",
    "while stack_to_test2.size() > 0:\n",
    "    list_to_compare2.append(stack_to_test2.pop())\n",
    "print ('Проверка равенства листов', list_to_compare2, list_to_compare2)"
   ]
  },
  {
   "cell_type": "code",
   "execution_count": 9,
   "metadata": {},
   "outputs": [
    {
     "name": "stdout",
     "output_type": "stream",
     "text": [
      "Тест Peek пустой стэк\n",
      "Тест пройден\n",
      "------------------------------------------------------------------------------------------------\n",
      "Тест Peek стэк 1 значение\n",
      "Тест пройден\n",
      "------------------------------------------------------------------------------------------------\n",
      "Тест Peek стэк много значений\n",
      "Тест пройден\n"
     ]
    }
   ],
   "source": [
    "print ('Тест Peek пустой стэк')\n",
    "stack_to_test = Stack2()\n",
    "if stack_to_test.peek() is None:\n",
    "    print ('Тест пройден')\n",
    "else:\n",
    "    print ('Тест провален')\n",
    "print ('------------------------------------------------------------------------------------------------')\n",
    "print ('Тест Peek стэк 1 значение')\n",
    "stack_to_test = Stack2()\n",
    "stack_to_test.push(99)\n",
    "if stack_to_test.peek() == 99:\n",
    "    print ('Тест пройден')\n",
    "else:\n",
    "    print ('Тест провален')\n",
    "print ('------------------------------------------------------------------------------------------------')\n",
    "print ('Тест Peek стэк много значений')\n",
    "stack_to_test = Stack2()\n",
    "for i in range (10):\n",
    "    stack_to_test.push(i)\n",
    "if stack_to_test.peek() == 9:\n",
    "    print ('Тест пройден')\n",
    "else:\n",
    "    print ('Тест провален')"
   ]
  },
  {
   "cell_type": "code",
   "execution_count": 83,
   "metadata": {},
   "outputs": [],
   "source": [
    "def balanse (string):\n",
    "    stack_open = Stack()\n",
    "    stack_close = Stack()\n",
    "    for i in list(string):\n",
    "        if i == '(':\n",
    "            stack_open.push(i)\n",
    "        elif i == ')':\n",
    "            stack_close.push(i)\n",
    "        \n",
    "        if stack_close.size() > stack_open.size():\n",
    "            print ('Несбалансировано!!!!!!!!')\n",
    "            return\n",
    "    if stack_open.size() != stack_close.size():\n",
    "        print ('Несбалансировано!!!!!!!')\n",
    "        return\n",
    "    else:\n",
    "        print ('Сбалансированно!!!!!')\n",
    "        return"
   ]
  },
  {
   "cell_type": "code",
   "execution_count": 85,
   "metadata": {},
   "outputs": [
    {
     "name": "stdout",
     "output_type": "stream",
     "text": [
      "Сбалансированно!!!!!\n"
     ]
    }
   ],
   "source": [
    "balanse('((((((()))()()()))(())))')"
   ]
  },
  {
   "cell_type": "code",
   "execution_count": 87,
   "metadata": {},
   "outputs": [
    {
     "name": "stdout",
     "output_type": "stream",
     "text": [
      "Несбалансировано!!!!!!!\n"
     ]
    }
   ],
   "source": [
    "balanse('((((((())()()))(())))')"
   ]
  },
  {
   "cell_type": "code",
   "execution_count": 81,
   "metadata": {},
   "outputs": [],
   "source": [
    "def postfiks (expression_string):\n",
    "    stack_one = Stack2()\n",
    "    stack_two = Stack2()\n",
    "    \n",
    "    for i in expression_string.split():\n",
    "        stack_one.push(i)\n",
    "    \n",
    "    while stack_one.size() > 0:\n",
    "        if stack_one.peek() == '+':\n",
    "            stack_one.pop()\n",
    "            stack_two.push(stack_two.pop() + stack_two.pop())            \n",
    "        elif stack_one.peek() == '*':\n",
    "            stack_one.pop()\n",
    "            multi = stack_two.pop() * stack_two.pop()\n",
    "            stack_two.push(multi)\n",
    "        elif stack_one.peek() == '=':\n",
    "            stack_one.pop()\n",
    "            return stack_two.pop()\n",
    "        else:\n",
    "            stack_two.push(int(stack_one.pop()))"
   ]
  },
  {
   "cell_type": "code",
   "execution_count": 90,
   "metadata": {},
   "outputs": [
    {
     "data": {
      "text/plain": [
       "59"
      ]
     },
     "execution_count": 90,
     "metadata": {},
     "output_type": "execute_result"
    }
   ],
   "source": [
    "postfiks('8 2 + 5 * 9 + =')"
   ]
  }
 ],
 "metadata": {
  "kernelspec": {
   "display_name": "Python 3",
   "language": "python",
   "name": "python3"
  },
  "language_info": {
   "codemirror_mode": {
    "name": "ipython",
    "version": 3
   },
   "file_extension": ".py",
   "mimetype": "text/x-python",
   "name": "python",
   "nbconvert_exporter": "python",
   "pygments_lexer": "ipython3",
   "version": "3.6.5"
  }
 },
 "nbformat": 4,
 "nbformat_minor": 2
}
