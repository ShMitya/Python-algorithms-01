{
 "cells": [
  {
   "cell_type": "code",
   "execution_count": 7,
   "metadata": {},
   "outputs": [],
   "source": [
    "class Node:\n",
    "    def __init__(self, v):\n",
    "        self.value = v\n",
    "        self.prev = None\n",
    "        self.next = None\n",
    "        \n",
    "class Stack:\n",
    "    def __init__(self):\n",
    "        self.head = None\n",
    "        self.tail = None\n",
    "\n",
    "    def size (self):\n",
    "        node = self.head\n",
    "        i = 0\n",
    "        while node is not None:\n",
    "            i+=1\n",
    "            node = node.next\n",
    "        return i\n",
    "    \n",
    "    def push(self, value):\n",
    "        newNode = Node (value)\n",
    "        \n",
    "        if self.head is None:\n",
    "            self.head = newNode\n",
    "            newNode.prev = None\n",
    "            newNode.next = None\n",
    "            self.tail = self.head\n",
    "        else:\n",
    "            node = self.head\n",
    "            self.head = newNode\n",
    "            self.head.next = node\n",
    "            node.prev = self.head \n",
    "          \n",
    "    def pop (self):\n",
    "        node_to_pop = self.head\n",
    "        \n",
    "        if self.head is not None:\n",
    "            if self.head.next is not None:\n",
    "                self.head = self.head.next\n",
    "                self.head.prev = None                \n",
    "            else:\n",
    "                self.tail = None\n",
    "                self.head = None\n",
    "            return node_to_pop.value\n",
    "        else:\n",
    "            return None\n",
    "                    \n",
    "    def peek (self):\n",
    "        if self.head is not None:\n",
    "            return self.head.value\n",
    "        else:\n",
    "            return None"
   ]
  },
  {
   "cell_type": "code",
   "execution_count": 8,
   "metadata": {},
   "outputs": [],
   "source": [
    "def postfiks (expression_string):\n",
    "    stack_one = Stack()\n",
    "    stack_two = Stack()\n",
    "    \n",
    "    for i in reversed (expression_string.split()):\n",
    "        stack_one.push(i)\n",
    "    \n",
    "    while stack_one.size() > 0:\n",
    "        if stack_one.peek() == '+':\n",
    "            stack_one.pop()\n",
    "            stack_two.push(stack_two.pop() + stack_two.pop())            \n",
    "        elif stack_one.peek() == '*':\n",
    "            stack_one.pop()\n",
    "            multi = stack_two.pop() * stack_two.pop()\n",
    "            stack_two.push(multi)\n",
    "        elif stack_one.peek() == '=':\n",
    "            stack_one.pop()\n",
    "            return stack_two.pop()\n",
    "        else:\n",
    "            stack_two.push(int(stack_one.pop()))"
   ]
  },
  {
   "cell_type": "code",
   "execution_count": 9,
   "metadata": {},
   "outputs": [
    {
     "data": {
      "text/plain": [
       "59"
      ]
     },
     "execution_count": 9,
     "metadata": {},
     "output_type": "execute_result"
    }
   ],
   "source": [
    "postfiks('8 2 + 5 * 9 + =')"
   ]
  }
 ],
 "metadata": {
  "kernelspec": {
   "display_name": "Python 3",
   "language": "python",
   "name": "python3"
  },
  "language_info": {
   "codemirror_mode": {
    "name": "ipython",
    "version": 3
   },
   "file_extension": ".py",
   "mimetype": "text/x-python",
   "name": "python",
   "nbconvert_exporter": "python",
   "pygments_lexer": "ipython3",
   "version": "3.6.5"
  }
 },
 "nbformat": 4,
 "nbformat_minor": 2
}
