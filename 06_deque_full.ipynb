{
 "cells": [
  {
   "cell_type": "code",
   "execution_count": 1,
   "metadata": {},
   "outputs": [],
   "source": [
    "class Node:\n",
    "    def __init__(self, v):\n",
    "        self.value = v\n",
    "        self.prev = None\n",
    "        self.next = None\n",
    "\n",
    "class Deque:  \n",
    "    def __init__(self):\n",
    "        self.head = None\n",
    "        self.tail = None\n",
    "        \n",
    "    def addTail(self, item):\n",
    "        item = Node (item)\n",
    "        if self.head is None:\n",
    "            self.head = item\n",
    "            item.prev = None\n",
    "            item.next = None\n",
    "        else:\n",
    "            self.tail.next = item\n",
    "            item.prev = self.tail\n",
    "        self.tail = item\n",
    "        \n",
    "    def addFront(self, item):\n",
    "        item = Node (item)\n",
    "        if self.head is None:\n",
    "            self.head = item\n",
    "            item.prev = None\n",
    "            item.next = None\n",
    "            self.tail = self.head\n",
    "        else:\n",
    "            node = self.head\n",
    "            self.head = item\n",
    "            self.head.next = node\n",
    "            node.prev = self.head\n",
    "    \n",
    "    def removeFront (self):\n",
    "        node_to_remove = self.head\n",
    "        \n",
    "        if self.head is not None:\n",
    "            if self.head.next is not None:\n",
    "                self.head = self.head.next\n",
    "                self.head.prev = None                \n",
    "            else:\n",
    "                self.tail = None\n",
    "                self.head = None\n",
    "            return node_to_remove.value\n",
    "        else:\n",
    "            return None\n",
    "        \n",
    "    def removeTail (self):\n",
    "        node_to_remove = self.tail\n",
    "        \n",
    "        if self.tail is not None:\n",
    "            if self.tail.prev is not None:\n",
    "                self.tail = self.tail.prev\n",
    "                self.tail.next = None                \n",
    "            else:\n",
    "                self.tail = None\n",
    "                self.head = None\n",
    "            return node_to_remove.value\n",
    "        else:\n",
    "            return None\n",
    "        \n",
    "    def size (self):\n",
    "        node = self.head\n",
    "        i = 0\n",
    "        while node is not None:\n",
    "            i+=1\n",
    "            node = node.next\n",
    "        return i"
   ]
  },
  {
   "cell_type": "code",
   "execution_count": 2,
   "metadata": {},
   "outputs": [
    {
     "name": "stdout",
     "output_type": "stream",
     "text": [
      "Тест addTail и removeTail и Size\n",
      "1\n",
      "2\n",
      "3\n",
      "4\n",
      "5\n",
      "6\n",
      "7\n",
      "8\n",
      "9\n",
      "10\n",
      "9\n",
      "8\n",
      "7\n",
      "6\n",
      "5\n",
      "4\n",
      "3\n",
      "2\n",
      "1\n",
      "0\n",
      "Проверка равенства листов [0, 1, 2, 3, 4, 5, 6, 7, 8, 9] [0, 1, 2, 3, 4, 5, 6, 7, 8, 9]\n"
     ]
    }
   ],
   "source": [
    "print ('Тест addTail и removeTail и Size') # формат стека\n",
    "stack_to_test = Deque()\n",
    "list_to_compare = list(range(10))\n",
    "for i in list_to_compare:\n",
    "    stack_to_test.addTail(i)\n",
    "    print (stack_to_test.size())\n",
    "list_to_compare2 = []\n",
    "while stack_to_test.size() > 0:\n",
    "    list_to_compare2.append(stack_to_test.removeTail())\n",
    "    print (stack_to_test.size())\n",
    "print ('Проверка равенства листов', list_to_compare, [x for x in reversed(list_to_compare2)])"
   ]
  },
  {
   "cell_type": "code",
   "execution_count": 3,
   "metadata": {},
   "outputs": [
    {
     "name": "stdout",
     "output_type": "stream",
     "text": [
      "Тест addFront и removeFront и Size\n",
      "1\n",
      "2\n",
      "3\n",
      "4\n",
      "5\n",
      "6\n",
      "7\n",
      "8\n",
      "9\n",
      "10\n",
      "9\n",
      "8\n",
      "7\n",
      "6\n",
      "5\n",
      "4\n",
      "3\n",
      "2\n",
      "1\n",
      "0\n",
      "Проверка равенства листов [0, 1, 2, 3, 4, 5, 6, 7, 8, 9] [0, 1, 2, 3, 4, 5, 6, 7, 8, 9]\n"
     ]
    }
   ],
   "source": [
    "print ('Тест addFront и removeFront и Size') # формат стека\n",
    "stack_to_test = Deque()\n",
    "list_to_compare = list(range(10))\n",
    "for i in list_to_compare:\n",
    "    stack_to_test.addFront(i)\n",
    "    print (stack_to_test.size())\n",
    "list_to_compare2 = []\n",
    "while stack_to_test.size() > 0:\n",
    "    list_to_compare2.append(stack_to_test.removeFront())\n",
    "    print (stack_to_test.size())\n",
    "print ('Проверка равенства листов', list_to_compare, [x for x in reversed(list_to_compare2)])"
   ]
  },
  {
   "cell_type": "code",
   "execution_count": 4,
   "metadata": {},
   "outputs": [
    {
     "name": "stdout",
     "output_type": "stream",
     "text": [
      "Тест addTail и removeFront и Size\n",
      "1\n",
      "2\n",
      "3\n",
      "4\n",
      "5\n",
      "6\n",
      "7\n",
      "8\n",
      "9\n",
      "10\n",
      "9\n",
      "8\n",
      "7\n",
      "6\n",
      "5\n",
      "4\n",
      "3\n",
      "2\n",
      "1\n",
      "0\n",
      "Проверка равенства листов [0, 1, 2, 3, 4, 5, 6, 7, 8, 9] [0, 1, 2, 3, 4, 5, 6, 7, 8, 9]\n"
     ]
    }
   ],
   "source": [
    "print ('Тест addTail и removeFront и Size') # формат очереди\n",
    "stack_to_test = Deque()\n",
    "list_to_compare = list(range(10))\n",
    "for i in list_to_compare:\n",
    "    stack_to_test.addTail(i)\n",
    "    print (stack_to_test.size())\n",
    "list_to_compare2 = []\n",
    "while stack_to_test.size() > 0:\n",
    "    list_to_compare2.append(stack_to_test.removeFront())\n",
    "    print (stack_to_test.size())\n",
    "print ('Проверка равенства листов', list_to_compare, list_to_compare2)"
   ]
  },
  {
   "cell_type": "code",
   "execution_count": 5,
   "metadata": {},
   "outputs": [
    {
     "name": "stdout",
     "output_type": "stream",
     "text": [
      "Тест addFront и removeTail и Size\n",
      "1\n",
      "2\n",
      "3\n",
      "4\n",
      "5\n",
      "6\n",
      "7\n",
      "8\n",
      "9\n",
      "10\n",
      "9\n",
      "8\n",
      "7\n",
      "6\n",
      "5\n",
      "4\n",
      "3\n",
      "2\n",
      "1\n",
      "0\n",
      "Проверка равенства листов [0, 1, 2, 3, 4, 5, 6, 7, 8, 9] [0, 1, 2, 3, 4, 5, 6, 7, 8, 9]\n"
     ]
    }
   ],
   "source": [
    "print ('Тест addFront и removeTail и Size') # формат очереди\n",
    "stack_to_test = Deque()\n",
    "list_to_compare = list(range(10))\n",
    "for i in list_to_compare:\n",
    "    stack_to_test.addFront(i)\n",
    "    print (stack_to_test.size())\n",
    "list_to_compare2 = []\n",
    "while stack_to_test.size() > 0:\n",
    "    list_to_compare2.append(stack_to_test.removeTail())\n",
    "    print (stack_to_test.size())\n",
    "print ('Проверка равенства листов', list_to_compare, list_to_compare2)"
   ]
  },
  {
   "cell_type": "code",
   "execution_count": 21,
   "metadata": {},
   "outputs": [],
   "source": [
    "def polindrom (string):\n",
    "    string = list(string)\n",
    "    deque = Deque()\n",
    "    #from_head_to_tail = []\n",
    "    #from_tail_to_head = []\n",
    "    for i in string:\n",
    "        deque.addFront(i)\n",
    "    while deque.size() >1:\n",
    "        if deque.removeFront() != deque.removeTail():\n",
    "            print ('Не полиндром!!!!!!!!!!!!')\n",
    "            return\n",
    "    print ('Полиндром!!!!!!!!!!!!')   "
   ]
  },
  {
   "cell_type": "code",
   "execution_count": 22,
   "metadata": {},
   "outputs": [
    {
     "name": "stdout",
     "output_type": "stream",
     "text": [
      "Не полиндром!!!!!!!!!!!!\n"
     ]
    }
   ],
   "source": [
    "polindrom ('На мели мы налима лениво ловили')"
   ]
  },
  {
   "cell_type": "code",
   "execution_count": 23,
   "metadata": {},
   "outputs": [
    {
     "name": "stdout",
     "output_type": "stream",
     "text": [
      "Полиндром!!!!!!!!!!!!\n"
     ]
    }
   ],
   "source": [
    "polindrom ('шалаш')"
   ]
  },
  {
   "cell_type": "code",
   "execution_count": 27,
   "metadata": {},
   "outputs": [
    {
     "name": "stdout",
     "output_type": "stream",
     "text": [
      "Полиндром!!!!!!!!!!!!\n"
     ]
    }
   ],
   "source": [
    "polindrom ('шалаш')"
   ]
  },
  {
   "cell_type": "code",
   "execution_count": 28,
   "metadata": {},
   "outputs": [
    {
     "name": "stdout",
     "output_type": "stream",
     "text": [
      "Не полиндром!!!!!!!!!!!!\n"
     ]
    }
   ],
   "source": [
    "polindrom ('а роза упала на лапу азора')"
   ]
  }
 ],
 "metadata": {
  "kernelspec": {
   "display_name": "Python 3",
   "language": "python",
   "name": "python3"
  },
  "language_info": {
   "codemirror_mode": {
    "name": "ipython",
    "version": 3
   },
   "file_extension": ".py",
   "mimetype": "text/x-python",
   "name": "python",
   "nbconvert_exporter": "python",
   "pygments_lexer": "ipython3",
   "version": "3.6.5"
  }
 },
 "nbformat": 4,
 "nbformat_minor": 2
}
