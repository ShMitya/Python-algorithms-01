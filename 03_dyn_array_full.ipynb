{
 "cells": [
  {
   "cell_type": "code",
   "execution_count": 2,
   "metadata": {},
   "outputs": [],
   "source": [
    "import ctypes\n",
    "\n",
    "class DynArray:\n",
    "    \n",
    "    def __init__(self):\n",
    "        self.count = 0\n",
    "        self.capacity = 16\n",
    "        self.array = self.make_array(self.capacity)\n",
    "\n",
    "    def __len__(self):\n",
    "        return self.count\n",
    "    \n",
    "    def make_array(self, new_capacity):\n",
    "        return (new_capacity * ctypes.py_object)()\n",
    "    \n",
    "    def __getitem__(self,i):\n",
    "        if i < 0 or i >= self.count:\n",
    "            raise IndexError('Index is out of bounds')\n",
    "        return self.array[i]\n",
    "    \n",
    "    def resize(self, new_capacity):\n",
    "        new_array = self.make_array(new_capacity)\n",
    "        for i in range(self.count):\n",
    "            new_array[i] = self.array[i]\n",
    "        self.array = new_array\n",
    "        self.capacity = new_capacity\n",
    "        \n",
    "    def append(self, itm):\n",
    "        if self.count == self.capacity:\n",
    "            self.resize(2*self.capacity)\n",
    "        self.array[self.count] = itm\n",
    "        self.count += 1\n",
    "        \n",
    "    def insert (self, i, itm):\n",
    "        if i < 0 or i > self.count:\n",
    "            raise IndexError('Index is out of bounds')\n",
    "        \n",
    "        if self.count == self.capacity:\n",
    "            self.resize(2*self.capacity)\n",
    "            \n",
    "        if i == self.count:\n",
    "            self.array[self.count] = itm\n",
    "            self.count += 1\n",
    "            \n",
    "        else:          \n",
    "            j = self.count\n",
    "            while j!=i:\n",
    "                self.array[j] = self.array[j-1]\n",
    "                j-=1\n",
    "            self.array[i] = itm\n",
    "            self.count += 1\n",
    "            \n",
    "    def delete (self, i):\n",
    "        if i < 0 or i >= self.count:\n",
    "            raise IndexError('Index is out of bounds')\n",
    "        \n",
    "        while i != self.count-1:  \n",
    "            self.array[i] = self.array[i+1]\n",
    "            i+=1\n",
    "        self.array [i] = None\n",
    "        self.count -= 1\n",
    "        \n",
    "        if self.count <= self.capacity*0.5:\n",
    "            if self.capacity/1.5 <= 16:\n",
    "                self.resize (16)\n",
    "            else:\n",
    "                self.resize(int(self.capacity/1.5))"
   ]
  },
  {
   "cell_type": "code",
   "execution_count": 3,
   "metadata": {},
   "outputs": [
    {
     "name": "stdout",
     "output_type": "stream",
     "text": [
      "[0, 1, 2, 3, 4, 5, 6, 7, 8, 9, 10, 11, 12, 13, 14, 15, 16, 17, 18, 19, 20, 21, 22, 23, 24, 25, 26, 27, 28, 29, 30, 31, 32, 33, 34, 35, 36, 37, 38, 39, 40, 41, 42, 43, 44, 45, 46, 47, 48, 49, 50, 51, 52, 53, 54, 55, 56, 57, 58, 59, 60, 61, 62, 63, 64, 65, 66, 67, 68, 69, 70, 71, 72, 73, 74, 75, 76, 77, 78, 79, 80, 81, 82, 83, 84, 85, 86, 87, 88, 89, 90, 91, 92, 93, 94, 95, 96, 97, 98, 99]\n",
      "Тест вставки элемента, когда в итоге размер буфера не превышен (проверьте также размер буфера)\n",
      "Тестовый лист после вставки равен стандартному питоновскому True\n",
      "Емкость до и после вставки 128 128 True\n",
      "Размер до и после вставки 100 101 True\n"
     ]
    }
   ],
   "source": [
    "test_array1 = DynArray()\n",
    "for i in range(100):\n",
    "    test_array1.append(i)\n",
    "print (list(test_array1)) \n",
    "print ('Тест вставки элемента, когда в итоге размер буфера не превышен (проверьте также размер буфера)')\n",
    "initial_capacity = test_array1.capacity\n",
    "initial_count = test_array1.count\n",
    "list_to_compare = list (test_array1)\n",
    "list_to_compare.insert (10, 999)\n",
    "test_array1.insert(10, 999)\n",
    "print ('Тестовый лист после вставки равен стандартному питоновскому', list_to_compare == list(test_array1))\n",
    "print ('Емкость до и после вставки', initial_capacity, test_array1.capacity, initial_capacity == test_array1.capacity)\n",
    "print ('Размер до и после вставки', initial_count, test_array1.count, initial_count == test_array1.count - 1 )"
   ]
  },
  {
   "cell_type": "code",
   "execution_count": 4,
   "metadata": {},
   "outputs": [
    {
     "name": "stdout",
     "output_type": "stream",
     "text": [
      "[0, 1, 2, 3, 4, 5, 6, 7, 8, 9, 10, 11, 12, 13, 14, 15]\n",
      "Тест вставки элемента, когда в результате превышен размер буфера (проверьте также корректное изменение размера буфера)\n",
      "Тестовый лист после вставки равен стандартному питоновскому True\n",
      "Емкость до и после вставки 16 32 True\n",
      "Размер до и после вставки 16 17 True\n"
     ]
    }
   ],
   "source": [
    "test_array2 = DynArray()\n",
    "for i in range(16):\n",
    "    test_array2.append(i)\n",
    "print (list(test_array2)) \n",
    "print ('Тест вставки элемента, когда в результате превышен размер буфера')\n",
    "initial_capacity = test_array2.capacity\n",
    "initial_count = test_array2.count\n",
    "list_to_compare = list (test_array2)\n",
    "list_to_compare.insert (10, 999)\n",
    "test_array2.insert(10, 999)\n",
    "print ('Тестовый лист после вставки равен стандартному питоновскому', list_to_compare == list(test_array2))\n",
    "print ('Емкость до и после вставки', initial_capacity, test_array2.capacity, initial_capacity*2 == test_array2.capacity)\n",
    "print ('Размер до и после вставки', initial_count, test_array2.count, initial_count == test_array2.count - 1 )"
   ]
  },
  {
   "cell_type": "code",
   "execution_count": 5,
   "metadata": {},
   "outputs": [
    {
     "name": "stdout",
     "output_type": "stream",
     "text": [
      "[0, 1, 2, 3, 4, 5, 6, 7, 8, 9, 10, 11, 12, 13, 14, 15, 16, 17, 18, 19, 20, 21, 22, 23, 24, 25, 26, 27, 28, 29, 30, 31, 32, 33, 34, 35, 36, 37, 38, 39, 40, 41, 42, 43, 44, 45, 46, 47, 48, 49, 50, 51, 52, 53, 54, 55, 56, 57, 58, 59, 60, 61, 62, 63, 64, 65, 66, 67, 68, 69, 70, 71, 72, 73, 74, 75, 76, 77, 78, 79, 80, 81, 82, 83, 84, 85, 86, 87, 88, 89, 90, 91, 92, 93, 94, 95, 96, 97, 98, 99]\n",
      "Тест попытки вставки элемента в недопустимую позицию\n",
      "Попытка отрицательного индекса\n",
      "Тест пройден\n",
      "Емкость до и после вставки 128 128 True\n",
      "Размер до и после вставки 100 100 True\n",
      "------------------------------------------------------------------------------------------------------------\n",
      "Попытка положительного индекса за пределами списка\n",
      "Тест пройден\n",
      "Емкость до и после вставки 128 128 True\n",
      "Размер до и после вставки 100 100 True\n"
     ]
    }
   ],
   "source": [
    "test_array3 = DynArray()\n",
    "for i in range(100):\n",
    "    test_array3.append(i)\n",
    "print (list(test_array3)) \n",
    "print ('Тест попытки вставки элемента в недопустимую позицию')\n",
    "initial_capacity = test_array3.capacity\n",
    "initial_count = test_array3.count\n",
    "print ('Попытка отрицательного индекса')\n",
    "try: \n",
    "    test_array3.insert(-1, 999)\n",
    "except IndexError:\n",
    "    print ('Тест пройден')\n",
    "print ('Емкость до и после вставки', initial_capacity, test_array3.capacity, initial_capacity == test_array3.capacity)\n",
    "print ('Размер до и после вставки', initial_count, test_array3.count, initial_count == test_array3.count )\n",
    "print ('------------------------------------------------------------------------------------------------------------')\n",
    "print ('Попытка положительного индекса за пределами списка')\n",
    "try: \n",
    "    test_array3.insert(200, 999)\n",
    "except IndexError:\n",
    "    print ('Тест пройден')\n",
    "print ('Емкость до и после вставки', initial_capacity, test_array3.capacity, initial_capacity == test_array3.capacity)\n",
    "print ('Размер до и после вставки', initial_count, test_array3.count, initial_count == test_array3.count )"
   ]
  },
  {
   "cell_type": "code",
   "execution_count": 6,
   "metadata": {},
   "outputs": [
    {
     "name": "stdout",
     "output_type": "stream",
     "text": [
      "[0, 1, 2, 3, 4, 5, 6, 7, 8, 9, 10, 11, 12, 13, 14, 15, 16, 17, 18, 19, 20, 21, 22, 23, 24, 25, 26, 27, 28, 29, 30, 31, 32, 33, 34, 35, 36, 37, 38, 39, 40, 41, 42, 43, 44, 45, 46, 47, 48, 49, 50, 51, 52, 53, 54, 55, 56, 57, 58, 59, 60, 61, 62, 63, 64, 65, 66, 67, 68, 69, 70, 71, 72, 73, 74, 75, 76, 77, 78, 79, 80, 81, 82, 83, 84, 85, 86, 87, 88, 89, 90, 91, 92, 93, 94, 95, 96, 97, 98, 99]\n",
      "Тест вставки элемента в крайнюю позицию, когда в итоге размер буфера не превышен\n",
      "Тестовый лист после вставки равен стандартному питоновскому True\n",
      "Емкость до и после вставки 128 128 True\n",
      "Размер до и после вставки 100 101 True\n",
      "[0, 1, 2, 3, 4, 5, 6, 7, 8, 9, 10, 11, 12, 13, 14, 15, 16, 17, 18, 19, 20, 21, 22, 23, 24, 25, 26, 27, 28, 29, 30, 31, 32, 33, 34, 35, 36, 37, 38, 39, 40, 41, 42, 43, 44, 45, 46, 47, 48, 49, 50, 51, 52, 53, 54, 55, 56, 57, 58, 59, 60, 61, 62, 63, 64, 65, 66, 67, 68, 69, 70, 71, 72, 73, 74, 75, 76, 77, 78, 79, 80, 81, 82, 83, 84, 85, 86, 87, 88, 89, 90, 91, 92, 93, 94, 95, 96, 97, 98, 99, 999]\n"
     ]
    }
   ],
   "source": [
    "test_array4 = DynArray()\n",
    "for i in range(100):\n",
    "    test_array4.append(i)\n",
    "print (list(test_array4)) \n",
    "print ('Тест вставки элемента в крайнюю позицию, когда в итоге размер буфера не превышен')\n",
    "initial_capacity = test_array4.capacity\n",
    "initial_count = test_array4.count\n",
    "list_to_compare = list (test_array4)\n",
    "list_to_compare.insert (100, 999)\n",
    "test_array4.insert(100, 999)\n",
    "print ('Тестовый лист после вставки равен стандартному питоновскому', list_to_compare == list(test_array4))\n",
    "print ('Емкость до и после вставки', initial_capacity, test_array4.capacity, initial_capacity == test_array4.capacity)\n",
    "print ('Размер до и после вставки', initial_count, test_array4.count, initial_count == test_array4.count - 1 )\n",
    "print (list(test_array4))"
   ]
  },
  {
   "cell_type": "code",
   "execution_count": 7,
   "metadata": {},
   "outputs": [
    {
     "name": "stdout",
     "output_type": "stream",
     "text": [
      "[0, 1, 2, 3, 4, 5, 6, 7, 8, 9, 10, 11, 12, 13, 14, 15, 16, 17, 18, 19, 20, 21, 22, 23, 24, 25, 26, 27, 28, 29, 30, 31, 32, 33, 34, 35, 36, 37, 38, 39, 40, 41, 42, 43, 44, 45, 46, 47, 48, 49, 50, 51, 52, 53, 54, 55, 56, 57, 58, 59, 60, 61, 62, 63, 64, 65, 66, 67, 68, 69, 70, 71, 72, 73, 74, 75, 76, 77, 78, 79, 80, 81, 82, 83, 84, 85, 86, 87, 88, 89, 90, 91, 92, 93, 94, 95, 96, 97, 98, 99]\n",
      "Тест удаления элемента, когда в результате размер буфера остаётся прежним\n",
      "Тестовый лист после вставки равен стандартному питоновскому True\n",
      "Емкость до и после удаления 128 128 True\n",
      "Размер до и после удаления 100 99 True\n"
     ]
    }
   ],
   "source": [
    "test_array5 = DynArray()\n",
    "for i in range(100):\n",
    "    test_array5.append(i)\n",
    "print (list(test_array5)) \n",
    "print ('Тест удаления элемента, когда в результате размер буфера остаётся прежним')\n",
    "initial_capacity = test_array5.capacity\n",
    "initial_count = test_array5.count\n",
    "list_to_compare = list (test_array5)\n",
    "del list_to_compare[10]\n",
    "test_array5.delete(10)\n",
    "print ('Тестовый лист после вставки равен стандартному питоновскому', list_to_compare == list(test_array5))\n",
    "print ('Емкость до и после удаления', initial_capacity, test_array5.capacity, initial_capacity == test_array5.capacity)\n",
    "print ('Размер до и после удаления', initial_count, test_array5.count, initial_count == test_array5.count + 1 )"
   ]
  },
  {
   "cell_type": "code",
   "execution_count": 8,
   "metadata": {},
   "outputs": [
    {
     "name": "stdout",
     "output_type": "stream",
     "text": [
      "[0, 1, 2, 3, 4, 5, 6, 7, 8, 9, 10, 11, 12, 13, 14, 15, 16, 17, 18, 19, 20, 21, 22, 23, 24, 25, 26, 27, 28, 29, 30, 31, 32]\n",
      "Тест удаления элемента, когда в результате понижается размер буфера\n",
      "Тестовый лист после удаления равен стандартному питоновскому True\n",
      "Емкость до и после удаления 64 42 True\n",
      "Размер до и после удаления 33 32 True\n"
     ]
    }
   ],
   "source": [
    "test_array6 = DynArray()\n",
    "for i in range(33):\n",
    "    test_array6.append(i)\n",
    "print (list(test_array6)) \n",
    "print ('Тест удаления элемента, когда в результате понижается размер буфера')\n",
    "initial_capacity = test_array6.capacity\n",
    "initial_count = test_array6.count\n",
    "list_to_compare = list (test_array6)\n",
    "del list_to_compare[10]\n",
    "test_array6.delete(10)\n",
    "print ('Тестовый лист после удаления равен стандартному питоновскому', list_to_compare == list(test_array6))\n",
    "print ('Емкость до и после удаления', initial_capacity, test_array6.capacity, int(initial_capacity/1.5) == test_array6.capacity)\n",
    "print ('Размер до и после удаления', initial_count, test_array6.count, initial_count == test_array6.count + 1 )"
   ]
  },
  {
   "cell_type": "code",
   "execution_count": 9,
   "metadata": {},
   "outputs": [
    {
     "name": "stdout",
     "output_type": "stream",
     "text": [
      "[0, 1, 2, 3, 4]\n",
      "Тест удаления элемента, когда в результате размер буфера остается прежним минимальным\n",
      "Тестовый лист после удаления равен стандартному питоновскому True\n",
      "Емкость до и после удаления 16 16 True\n",
      "Размер до и после удаления 5 4 True\n"
     ]
    }
   ],
   "source": [
    "test_array7 = DynArray()\n",
    "for i in range(5):\n",
    "    test_array7.append(i)\n",
    "print (list(test_array7)) \n",
    "print ('Тест удаления элемента, когда в результате размер буфера остается прежним минимальным')\n",
    "initial_capacity = test_array7.capacity\n",
    "initial_count = test_array7.count\n",
    "list_to_compare = list (test_array7)\n",
    "del list_to_compare[3]\n",
    "test_array7.delete(3)\n",
    "print ('Тестовый лист после удаления равен стандартному питоновскому', list_to_compare == list(test_array7))\n",
    "print ('Емкость до и после удаления', initial_capacity, test_array7.capacity, initial_capacity == test_array7.capacity)\n",
    "print ('Размер до и после удаления', initial_count, test_array7.count, initial_count == test_array7.count + 1 )"
   ]
  },
  {
   "cell_type": "code",
   "execution_count": 10,
   "metadata": {},
   "outputs": [
    {
     "name": "stdout",
     "output_type": "stream",
     "text": [
      "[0, 1, 2, 3, 4, 5, 6, 7, 8, 9, 10, 11, 12, 13, 14, 15, 16, 17, 18, 19, 20, 21, 22, 23, 24, 25, 26, 27, 28, 29, 30, 31, 32, 33, 34, 35, 36, 37, 38, 39, 40, 41, 42, 43, 44, 45, 46, 47, 48, 49, 50, 51, 52, 53, 54, 55, 56, 57, 58, 59, 60, 61, 62, 63, 64, 65, 66, 67, 68, 69, 70, 71, 72, 73, 74, 75, 76, 77, 78, 79, 80, 81, 82, 83, 84, 85, 86, 87, 88, 89, 90, 91, 92, 93, 94, 95, 96, 97, 98, 99]\n",
      "Тест попытки удаления элемента из недопустимой позиции\n",
      "Попытка отрицательного индекса\n",
      "Тест пройден\n",
      "Емкость до и после удаления 128 128 True\n",
      "Размер до и после удаления 100 100 True\n",
      "------------------------------------------------------------------------------------------------------------\n",
      "Попытка положительного индекса за пределами списка\n",
      "Тест пройден\n",
      "Емкость до и после вставки 128 128 True\n",
      "Размер до и после вставки 100 100 True\n"
     ]
    }
   ],
   "source": [
    "test_array8 = DynArray()\n",
    "for i in range(100):\n",
    "    test_array8.append(i)\n",
    "print (list(test_array8)) \n",
    "print ('Тест попытки удаления элемента из недопустимой позиции')\n",
    "initial_capacity = test_array8.capacity\n",
    "initial_count = test_array8.count\n",
    "print ('Попытка отрицательного индекса')\n",
    "try:\n",
    "    test_array8.delete(-1)\n",
    "except IndexError:\n",
    "    print ('Тест пройден')\n",
    "print ('Емкость до и после удаления', initial_capacity, test_array8.capacity, initial_capacity == test_array8.capacity)\n",
    "print ('Размер до и после удаления', initial_count, test_array8.count, initial_count == test_array8.count )\n",
    "print ('------------------------------------------------------------------------------------------------------------')\n",
    "print ('Попытка положительного индекса за пределами списка')\n",
    "try: \n",
    "    test_array8.delete(200)\n",
    "except IndexError:\n",
    "    print ('Тест пройден')\n",
    "print ('Емкость до и после вставки', initial_capacity, test_array8.capacity, initial_capacity == test_array8.capacity)\n",
    "print ('Размер до и после вставки', initial_count, test_array8.count, initial_count == test_array8.count )"
   ]
  }
 ],
 "metadata": {
  "kernelspec": {
   "display_name": "Python 3",
   "language": "python",
   "name": "python3"
  },
  "language_info": {
   "codemirror_mode": {
    "name": "ipython",
    "version": 3
   },
   "file_extension": ".py",
   "mimetype": "text/x-python",
   "name": "python",
   "nbconvert_exporter": "python",
   "pygments_lexer": "ipython3",
   "version": "3.6.5"
  }
 },
 "nbformat": 4,
 "nbformat_minor": 2
}
