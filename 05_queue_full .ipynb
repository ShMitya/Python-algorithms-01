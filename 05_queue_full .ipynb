{
 "cells": [
  {
   "cell_type": "code",
   "execution_count": 22,
   "metadata": {},
   "outputs": [],
   "source": [
    "class Node:\n",
    "    def __init__(self, v):\n",
    "        self.value = v\n",
    "        self.prev = None\n",
    "        self.next = None\n",
    "        \n",
    "class Queue:\n",
    "    def __init__(self):\n",
    "        self.head = None\n",
    "        self.tail = None\n",
    "        \n",
    "    def enqueue(self, value):\n",
    "        newNode = Node (value)\n",
    "        \n",
    "        if self.head is None:\n",
    "            self.head = newNode\n",
    "            newNode.prev = None\n",
    "            newNode.next = None\n",
    "            self.tail = self.head\n",
    "        else:\n",
    "            node = self.head\n",
    "            self.head = newNode\n",
    "            self.head.next = node\n",
    "            node.prev = self.head\n",
    "            \n",
    "    def dequeue (self):\n",
    "        node_to_pop = self.tail\n",
    "        \n",
    "        if self.tail is not None:\n",
    "            if self.tail.prev is not None:\n",
    "                self.tail = self.tail.prev\n",
    "                self.tail.next = None                \n",
    "            else:\n",
    "                self.tail = None\n",
    "                self.head = None\n",
    "            return node_to_pop.value\n",
    "        else:\n",
    "            return None\n",
    "\n",
    "    def size (self):\n",
    "        node = self.head\n",
    "        i = 0\n",
    "        while node is not None:\n",
    "            i+=1\n",
    "            node = node.next\n",
    "        return i"
   ]
  },
  {
   "cell_type": "code",
   "execution_count": 23,
   "metadata": {},
   "outputs": [
    {
     "name": "stdout",
     "output_type": "stream",
     "text": [
      "Тест enqueue и dequeue\n",
      "Проверка равенства листов [0, 1, 2, 3, 4, 5, 6, 7, 8, 9] [0, 1, 2, 3, 4, 5, 6, 7, 8, 9]\n"
     ]
    }
   ],
   "source": [
    "print ('Тест enqueue и dequeue')\n",
    "queue_to_test = Queue()\n",
    "list_to_compare = list(range(10))\n",
    "for i in list_to_compare:\n",
    "    queue_to_test.enqueue(i)\n",
    "list_queue_to_test = []\n",
    "while queue_to_test.size() > 0:\n",
    "    list_queue_to_test.append(queue_to_test.dequeue())\n",
    "print ('Проверка равенства листов', list_to_compare, list_queue_to_test)"
   ]
  },
  {
   "cell_type": "code",
   "execution_count": 24,
   "metadata": {},
   "outputs": [
    {
     "name": "stdout",
     "output_type": "stream",
     "text": [
      "Тест dequeue пустой стэк\n",
      "Тест пройден\n"
     ]
    }
   ],
   "source": [
    "print ('Тест dequeue пустой стэк')\n",
    "queue_to_test = Queue()\n",
    "if queue_to_test.dequeue() is None:\n",
    "    print ('Тест пройден')\n",
    "else:\n",
    "    print ('Тест провален')"
   ]
  },
  {
   "cell_type": "code",
   "execution_count": 25,
   "metadata": {},
   "outputs": [],
   "source": [
    "# функция одного полного оборота очереди\n",
    "def spinning (queue_init):\n",
    "    i = queue_init.size()\n",
    "    while i > 0:\n",
    "        queue_init.enqueue(queue_init.dequeue())\n",
    "        i-=1      "
   ]
  },
  {
   "cell_type": "code",
   "execution_count": 26,
   "metadata": {},
   "outputs": [],
   "source": [
    "queue_to_spinning = Queue() \n",
    "for i in list(range(10)):\n",
    "    queue_to_spinning.enqueue(i)"
   ]
  },
  {
   "cell_type": "code",
   "execution_count": 27,
   "metadata": {},
   "outputs": [],
   "source": [
    "spinning (queue_to_spinning)"
   ]
  },
  {
   "cell_type": "code",
   "execution_count": 28,
   "metadata": {},
   "outputs": [
    {
     "data": {
      "text/plain": [
       "0"
      ]
     },
     "execution_count": 28,
     "metadata": {},
     "output_type": "execute_result"
    }
   ],
   "source": [
    "queue_to_spinning.dequeue()"
   ]
  },
  {
   "cell_type": "code",
   "execution_count": 29,
   "metadata": {},
   "outputs": [],
   "source": [
    "# Стек, работающий с головы\n",
    "\n",
    "class Node:\n",
    "    def __init__(self, v):\n",
    "        self.value = v\n",
    "        self.prev = None\n",
    "        self.next = None\n",
    "        \n",
    "class Stack:\n",
    "    def __init__(self):\n",
    "        self.head = None\n",
    "        self.tail = None\n",
    "\n",
    "    def size (self):\n",
    "        node = self.head\n",
    "        i = 0\n",
    "        while node is not None:\n",
    "            i+=1\n",
    "            node = node.next\n",
    "        return i\n",
    "    \n",
    "    def push(self, value):\n",
    "        newNode = Node (value)\n",
    "        \n",
    "        if self.head is None:\n",
    "            self.head = newNode\n",
    "            newNode.prev = None\n",
    "            newNode.next = None\n",
    "            self.tail = self.head\n",
    "        else:\n",
    "            node = self.head\n",
    "            self.head = newNode\n",
    "            self.head.next = node\n",
    "            node.prev = self.head \n",
    "          \n",
    "    def pop (self):\n",
    "        node_to_pop = self.head\n",
    "        \n",
    "        if self.head is not None:\n",
    "            if self.head.next is not None:\n",
    "                self.head = self.head.next\n",
    "                self.head.prev = None                \n",
    "            else:\n",
    "                self.tail = None\n",
    "                self.head = None\n",
    "            return node_to_pop.value\n",
    "        else:\n",
    "            return None\n",
    "                    \n",
    "    def peek (self):\n",
    "        if self.head is not None:\n",
    "            return self.head.value\n",
    "        else:\n",
    "            return None"
   ]
  },
  {
   "cell_type": "code",
   "execution_count": 30,
   "metadata": {},
   "outputs": [],
   "source": [
    "# очередь через 2 стека\n",
    "        \n",
    "class Queue:\n",
    "    def __init__(self):\n",
    "        self.stack_in = Stack()\n",
    "        self.stack_out = Stack()\n",
    "        \n",
    "        \n",
    "    def enqueue(self, value):\n",
    "        self.stack_in.push(value)\n",
    "            \n",
    "    def dequeue (self):\n",
    "        while self.stack_in.size() > 0:\n",
    "            self.stack_out.push(self.stack_in.pop())\n",
    "        value_to_dequeue = self.stack_out.pop()\n",
    "        while self.stack_out.size() >0:\n",
    "            self.stack_in.push(self.stack_out.pop())\n",
    "        return value_to_dequeue\n",
    "\n",
    "    def size (self):\n",
    "        return self.stack_in.size()"
   ]
  },
  {
   "cell_type": "code",
   "execution_count": 31,
   "metadata": {},
   "outputs": [
    {
     "name": "stdout",
     "output_type": "stream",
     "text": [
      "Тест enqueue и dequeue\n",
      "Проверка равенства листов [0, 1, 2, 3, 4, 5, 6, 7, 8, 9] [0, 1, 2, 3, 4, 5, 6, 7, 8, 9]\n"
     ]
    }
   ],
   "source": [
    "print ('Тест enqueue и dequeue')\n",
    "queue_to_test = Queue()\n",
    "list_to_compare = list(range(10))\n",
    "for i in list_to_compare:\n",
    "    queue_to_test.enqueue(i)\n",
    "list_queue_to_test = []\n",
    "while queue_to_test.size() > 0:\n",
    "    list_queue_to_test.append(queue_to_test.dequeue())\n",
    "print ('Проверка равенства листов', list_to_compare, list_queue_to_test)"
   ]
  },
  {
   "cell_type": "code",
   "execution_count": 32,
   "metadata": {},
   "outputs": [
    {
     "name": "stdout",
     "output_type": "stream",
     "text": [
      "Тест dequeue пустой стэк\n",
      "Тест пройден\n"
     ]
    }
   ],
   "source": [
    "print ('Тест dequeue пустой стэк')\n",
    "queue_to_test = Queue()\n",
    "if queue_to_test.dequeue() is None:\n",
    "    print ('Тест пройден')\n",
    "else:\n",
    "    print ('Тест провален')"
   ]
  }
 ],
 "metadata": {
  "kernelspec": {
   "display_name": "Python 3",
   "language": "python",
   "name": "python3"
  },
  "language_info": {
   "codemirror_mode": {
    "name": "ipython",
    "version": 3
   },
   "file_extension": ".py",
   "mimetype": "text/x-python",
   "name": "python",
   "nbconvert_exporter": "python",
   "pygments_lexer": "ipython3",
   "version": "3.6.5"
  }
 },
 "nbformat": 4,
 "nbformat_minor": 2
}
