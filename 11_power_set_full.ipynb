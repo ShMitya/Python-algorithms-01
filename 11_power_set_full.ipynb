{
 "cells": [
  {
   "cell_type": "code",
   "execution_count": 58,
   "metadata": {},
   "outputs": [],
   "source": [
    "class PowerSet:\n",
    "\n",
    "    def __init__(self):\n",
    "        self.set_size = 9973\n",
    "        self.step = 3\n",
    "        self.slots = [None] * self.set_size\n",
    "        \n",
    "    def size(self):\n",
    "        sz = 0\n",
    "        for i in self.slots:\n",
    "            if i is not None:\n",
    "                sz += 1\n",
    "        return sz\n",
    "    \n",
    "    def hash_fun(self, value):\n",
    "        if type(value) == str:\n",
    "            result = 0\n",
    "            for c in value:\n",
    "                result += result+ord(c)\n",
    "        else:\n",
    "            result = value\n",
    "            \n",
    "        k = int(result % self.set_size)\n",
    "        return k\n",
    "    \n",
    "    def seek_slot(self, value):\n",
    "        k = self.hash_fun(value)\n",
    "        for i in range (self.set_size):\n",
    "            if self.slots[k] is None:\n",
    "                return k\n",
    "            k = (k + self.step)%self.set_size \n",
    "        return None\n",
    "\n",
    "    def put(self, value):\n",
    "        if self.get(value) == False:\n",
    "            k = self.seek_slot(value)\n",
    "            if k is not None:\n",
    "                self.slots[k] = value\n",
    "      \n",
    "    def find(self, value):\n",
    "        k = self.hash_fun(value)\n",
    "        for i in range (self.set_size):\n",
    "            if self.slots[k] == value:\n",
    "                return k\n",
    "            k = (k + self.step)%self.set_size\n",
    "        return None\n",
    "\n",
    "    def get(self, value):\n",
    "        k = self.hash_fun(value)\n",
    "        for i in range (self.set_size):\n",
    "            if self.slots[k] == value:\n",
    "                return True\n",
    "            k = (k + self.step)%self.set_size\n",
    "        return False\n",
    "\n",
    "    def remove(self, value):\n",
    "        k = self.hash_fun(value)\n",
    "        if self.find(value) is not None:\n",
    "            self.slots[k] = None\n",
    "            return True\n",
    "        return False\n",
    "\n",
    "    def intersection(self, set2):\n",
    "        set_to_return = PowerSet()\n",
    "        started = True\n",
    "        for i in self.slots:\n",
    "            if i is not None and set2.get(i):\n",
    "                set_to_return.put(i)\n",
    "        return set_to_return  \n",
    "\n",
    "    def union(self, set2):\n",
    "        set_to_return = set2\n",
    "                \n",
    "        if self.size() == 0:\n",
    "            return set_to_return\n",
    "            \n",
    "        for i in self.slots:\n",
    "            if i is not None and set2.get(i) == False:\n",
    "                set_to_return.put(i)\n",
    "        return set_to_return  \n",
    "\n",
    "    def difference(self, set2):\n",
    "        set_to_return = self\n",
    "        for i in self.slots:\n",
    "            if i is not None and set2.get(i):\n",
    "                set_to_return.remove(i)   \n",
    "        return set_to_return\n",
    "\n",
    "    def issubset(self, set2):\n",
    "        for i in set2.slots:\n",
    "            if i is not None and self.get(i) == False:\n",
    "                return False\n",
    "        return True"
   ]
  },
  {
   "cell_type": "code",
   "execution_count": 65,
   "metadata": {},
   "outputs": [
    {
     "name": "stdout",
     "output_type": "stream",
     "text": [
      "Тест put добавляется\n",
      "Размер множества после трех разных добавлений: 10\n"
     ]
    }
   ],
   "source": [
    "print ('Тест put добавляется')\n",
    "ps_to_test = PowerSet()\n",
    "ps_to_test.put(12)\n",
    "ps_to_test.put(12.1)\n",
    "ps_to_test.put(12.2)\n",
    "ps_to_test.put(12.3)\n",
    "ps_to_test.put(12.3)\n",
    "ps_to_test.put('123')\n",
    "ps_to_test.put('123')\n",
    "ps_to_test.put(123)\n",
    "ps_to_test.put('666')\n",
    "ps_to_test.put(657)\n",
    "ps_to_test.put('666')\n",
    "ps_to_test.put(True)\n",
    "ps_to_test.put(True)\n",
    "ps_to_test.put(False)\n",
    "ps_to_test.put(False)\n",
    "ps_to_test.put(0)\n",
    "ps_to_test.put(1)\n",
    "print ('Размер множества после трех разных добавлений:', ps_to_test.size())"
   ]
  },
  {
   "cell_type": "code",
   "execution_count": 66,
   "metadata": {},
   "outputs": [
    {
     "name": "stdout",
     "output_type": "stream",
     "text": [
      "False\n",
      "True\n",
      "12\n",
      "12.1\n",
      "12.2\n",
      "12.3\n",
      "123\n",
      "123\n",
      "666\n",
      "657\n"
     ]
    }
   ],
   "source": [
    "for i in ps_to_test.slots:\n",
    "    if i is not None:\n",
    "        print(i)"
   ]
  },
  {
   "cell_type": "code",
   "execution_count": 42,
   "metadata": {},
   "outputs": [
    {
     "name": "stdout",
     "output_type": "stream",
     "text": [
      "Тест put не добавляется\n",
      "Размер множества после трех разных и трех повторных добавлений: 3\n"
     ]
    }
   ],
   "source": [
    "print ('Тест put не добавляется')\n",
    "ps_to_test = PowerSet()\n",
    "ps_to_test.put(123)\n",
    "ps_to_test.put(12.3)\n",
    "ps_to_test.put('123')\n",
    "ps_to_test.put(123)\n",
    "ps_to_test.put(12.3)\n",
    "ps_to_test.put('123')\n",
    "print ('Размер множества после трех разных и трех повторных добавлений:', ps_to_test.size())"
   ]
  },
  {
   "cell_type": "code",
   "execution_count": 43,
   "metadata": {},
   "outputs": [
    {
     "name": "stdout",
     "output_type": "stream",
     "text": [
      "Тест remove элемент есть и удален\n",
      "Удаление элемента: True\n",
      "Размер множества должен быть 2: 2 Попытка get удаленного элемента False\n"
     ]
    }
   ],
   "source": [
    "print ('Тест remove элемент есть и удален')\n",
    "ps_to_test = PowerSet()\n",
    "ps_to_test.put(123)\n",
    "ps_to_test.put(12.3)\n",
    "ps_to_test.put('123')\n",
    "print ('Удаление элемента:', ps_to_test.remove(12.3))\n",
    "print ('Размер множества должен быть 2:', ps_to_test.size(), 'Попытка get удаленного элемента', ps_to_test.get(12.3))"
   ]
  },
  {
   "cell_type": "code",
   "execution_count": 44,
   "metadata": {},
   "outputs": [
    {
     "name": "stdout",
     "output_type": "stream",
     "text": [
      "Тест remove элемента нет\n",
      "Удаление элемента: False\n",
      "Размер множества должен быть 3: 3 Попытка get удаленного элемента False\n"
     ]
    }
   ],
   "source": [
    "print ('Тест remove элемента нет')\n",
    "ps_to_test = PowerSet()\n",
    "ps_to_test.put(123)\n",
    "ps_to_test.put(12.3)\n",
    "ps_to_test.put('123')\n",
    "print ('Удаление элемента:', ps_to_test.remove(666))\n",
    "print ('Размер множества должен быть 3:', ps_to_test.size(), 'Попытка get удаленного элемента', ps_to_test.get(666))"
   ]
  },
  {
   "cell_type": "code",
   "execution_count": 45,
   "metadata": {},
   "outputs": [
    {
     "name": "stdout",
     "output_type": "stream",
     "text": [
      "Тест intersection - на выходе пустое множество\n",
      "На выходе множество размера 0: True\n"
     ]
    }
   ],
   "source": [
    "print ('Тест intersection - на выходе пустое множество')\n",
    "ps_to_test = PowerSet()\n",
    "ps_to_test.put(123)\n",
    "ps_to_test.put(12.3)\n",
    "ps_to_test.put('123')\n",
    "ps_in = PowerSet()\n",
    "ps_in.put('sdgfhgh')\n",
    "ps_in.put(243454.23)\n",
    "ps_in.put(228)\n",
    "ps_out = ps_to_test.intersection(ps_in)\n",
    "print ('На выходе множество размера 0:', ps_out.size() == 0)"
   ]
  },
  {
   "cell_type": "code",
   "execution_count": 46,
   "metadata": {},
   "outputs": [
    {
     "name": "stdout",
     "output_type": "stream",
     "text": [
      "Тест intersection - на выходе НЕпустое множество\n",
      "На выходе размер на выходе 2: 2 Наличие элементов 123 и _123_: True True\n"
     ]
    }
   ],
   "source": [
    "print ('Тест intersection - на выходе НЕпустое множество')\n",
    "ps_to_test = PowerSet()\n",
    "ps_to_test.put(123)\n",
    "ps_to_test.put(12.3)\n",
    "ps_to_test.put('123')\n",
    "ps_in = PowerSet()\n",
    "ps_in.put('sdgfhgh')\n",
    "ps_in.put('123')\n",
    "ps_in.put(123)\n",
    "ps_out = ps_to_test.intersection(ps_in)\n",
    "print ('На выходе размер на выходе 2:', ps_out.size(), 'Наличие элементов 123 и _123_:', ps_out.get(123), ps_out.get('123'))"
   ]
  },
  {
   "cell_type": "code",
   "execution_count": 47,
   "metadata": {},
   "outputs": [
    {
     "name": "stdout",
     "output_type": "stream",
     "text": [
      "Тест union - оба множества НЕпустые\n",
      "На выходе размер на выходе 4: 4 Наличие элементов 12.3 и _sdgfhgh_: True True\n"
     ]
    }
   ],
   "source": [
    "print ('Тест union - оба множества НЕпустые')\n",
    "ps_to_test = PowerSet()\n",
    "ps_to_test.put(123)\n",
    "ps_to_test.put(12.3)\n",
    "ps_to_test.put('123')\n",
    "ps_in = PowerSet()\n",
    "ps_in.put('sdgfhgh')\n",
    "ps_in.put('123')\n",
    "ps_in.put(123)\n",
    "ps_out = ps_to_test.union(ps_in)\n",
    "print ('На выходе размер на выходе 4:', ps_out.size(), 'Наличие элементов 12.3 и _sdgfhgh_:', ps_out.get(12.3), ps_out.get('sdgfhgh'))"
   ]
  },
  {
   "cell_type": "code",
   "execution_count": 48,
   "metadata": {},
   "outputs": [
    {
     "name": "stdout",
     "output_type": "stream",
     "text": [
      "Тест union - второе множество - пустое\n",
      "На выходе размер на выходе 3: 3\n"
     ]
    }
   ],
   "source": [
    "print ('Тест union - второе множество - пустое')\n",
    "ps_to_test = PowerSet()\n",
    "ps_to_test.put(123)\n",
    "ps_to_test.put(12.3)\n",
    "ps_to_test.put('123')\n",
    "ps_in = PowerSet()\n",
    "ps_out = ps_to_test.union(ps_in)\n",
    "print ('На выходе размер на выходе 3:', ps_out.size())"
   ]
  },
  {
   "cell_type": "code",
   "execution_count": 49,
   "metadata": {},
   "outputs": [
    {
     "name": "stdout",
     "output_type": "stream",
     "text": [
      "Тест union - первое множество пустое\n",
      "На выходе размер на выходе 3: 3\n"
     ]
    }
   ],
   "source": [
    "print ('Тест union - первое множество пустое')\n",
    "ps_to_test = PowerSet()\n",
    "ps_in = PowerSet()\n",
    "ps_in.put('sdgfhgh')\n",
    "ps_in.put('123')\n",
    "ps_in.put(123)\n",
    "ps_out = ps_to_test.union(ps_in)\n",
    "print ('На выходе размер на выходе 3:', ps_out.size())"
   ]
  },
  {
   "cell_type": "code",
   "execution_count": 50,
   "metadata": {},
   "outputs": [
    {
     "name": "stdout",
     "output_type": "stream",
     "text": [
      "Тест union - оба множества пустые\n",
      "На выходе множество размера 0: True\n"
     ]
    }
   ],
   "source": [
    "print ('Тест union - оба множества пустые')\n",
    "ps_to_test = PowerSet()\n",
    "ps_in = PowerSet()\n",
    "ps_out = ps_to_test.union(ps_in)\n",
    "print ('На выходе множество размера 0:', ps_out.size() == 0)"
   ]
  },
  {
   "cell_type": "code",
   "execution_count": 51,
   "metadata": {},
   "outputs": [
    {
     "name": "stdout",
     "output_type": "stream",
     "text": [
      "Тест difference - на выходе НЕпустое множество\n",
      "На выходе размер на выходе 1: 1 Наличие элементов 12.3: True\n"
     ]
    }
   ],
   "source": [
    "print ('Тест difference - на выходе НЕпустое множество')\n",
    "ps_to_test = PowerSet()\n",
    "ps_to_test.put(123)\n",
    "ps_to_test.put(12.3)\n",
    "ps_to_test.put('123')\n",
    "ps_in = PowerSet()\n",
    "ps_in.put('sdgfhgh')\n",
    "ps_in.put('123')\n",
    "ps_in.put(123)\n",
    "ps_in.put(83292)\n",
    "ps_out = ps_to_test.difference(ps_in)\n",
    "print ('На выходе размер на выходе 1:', ps_out.size(), 'Наличие элементов 12.3:', ps_out.get(12.3))"
   ]
  },
  {
   "cell_type": "code",
   "execution_count": 52,
   "metadata": {},
   "outputs": [
    {
     "name": "stdout",
     "output_type": "stream",
     "text": [
      "Тест difference - на выходе пустое множество\n",
      "На выходе множество размера 0: True\n"
     ]
    }
   ],
   "source": [
    "print ('Тест difference - на выходе пустое множество')\n",
    "ps_to_test = PowerSet()\n",
    "ps_to_test.put(123)\n",
    "ps_to_test.put(12.3)\n",
    "ps_to_test.put('123')\n",
    "ps_in = PowerSet()\n",
    "ps_in.put(12.3)\n",
    "ps_in.put('123')\n",
    "ps_in.put(123)\n",
    "ps_out = ps_to_test.difference(ps_in)\n",
    "print ('На выходе множество размера 0:', ps_out.size() == 0)"
   ]
  },
  {
   "cell_type": "code",
   "execution_count": 53,
   "metadata": {},
   "outputs": [
    {
     "name": "stdout",
     "output_type": "stream",
     "text": [
      "Тест issubset - все элементы параметра входят в текущее множество\n",
      "На выходе True: True\n"
     ]
    }
   ],
   "source": [
    "print ('Тест issubset - все элементы параметра входят в текущее множество')\n",
    "ps_to_test = PowerSet()\n",
    "ps_to_test.put(123)\n",
    "ps_to_test.put(12.3)\n",
    "ps_to_test.put('123')\n",
    "ps_to_test.put('sdgfgn')\n",
    "ps_to_test.put(666)\n",
    "ps_to_test.put(412)\n",
    "ps_in = PowerSet()\n",
    "ps_in.put(12.3)\n",
    "ps_in.put('123')\n",
    "ps_in.put(123)\n",
    "ps_out = ps_to_test.issubset(ps_in)\n",
    "print ('На выходе True:', ps_out)"
   ]
  },
  {
   "cell_type": "code",
   "execution_count": 54,
   "metadata": {},
   "outputs": [
    {
     "name": "stdout",
     "output_type": "stream",
     "text": [
      "Тест issubset - все элементы текущего множества входят в параметр\n",
      "На выходе False: False\n"
     ]
    }
   ],
   "source": [
    "print ('Тест issubset - все элементы текущего множества входят в параметр')\n",
    "ps_to_test = PowerSet()\n",
    "ps_to_test.put(123)\n",
    "ps_to_test.put(12.3)\n",
    "ps_to_test.put('123')\n",
    "ps_to_test.put('sdgfgn')\n",
    "ps_to_test.put(666)\n",
    "ps_to_test.put(412)\n",
    "ps_in = PowerSet()\n",
    "ps_in.put(12.3)\n",
    "ps_in.put('123')\n",
    "ps_in.put(123)\n",
    "ps_out = ps_in.issubset(ps_to_test)\n",
    "print ('На выходе False:', ps_out)"
   ]
  },
  {
   "cell_type": "code",
   "execution_count": 55,
   "metadata": {},
   "outputs": [
    {
     "name": "stdout",
     "output_type": "stream",
     "text": [
      "Тест issubset - не все элементы параметра входят в текущее множество\n",
      "На выходе False: False\n"
     ]
    }
   ],
   "source": [
    "print ('Тест issubset - не все элементы параметра входят в текущее множество')\n",
    "ps_to_test = PowerSet()\n",
    "ps_to_test.put(123)\n",
    "ps_to_test.put(12.3)\n",
    "ps_to_test.put('123')\n",
    "ps_to_test.put('sdgfgn')\n",
    "ps_to_test.put(666)\n",
    "ps_to_test.put(412)\n",
    "ps_in = PowerSet()\n",
    "ps_in.put(12.3)\n",
    "ps_in.put('123')\n",
    "ps_in.put(123)\n",
    "ps_in.put('AAAAA')\n",
    "ps_out = ps_to_test.issubset(ps_in)\n",
    "print ('На выходе False:', ps_out)"
   ]
  },
  {
   "cell_type": "code",
   "execution_count": 69,
   "metadata": {},
   "outputs": [
    {
     "data": {
      "text/plain": [
       "9973"
      ]
     },
     "execution_count": 69,
     "metadata": {},
     "output_type": "execute_result"
    }
   ],
   "source": [
    "ps_to_test = PowerSet()\n",
    "for i in range (10000):\n",
    "    ps_to_test.put(10**i)\n",
    "    ps_to_test.put(10**i)\n",
    "ps_to_test.size()"
   ]
  },
  {
   "cell_type": "code",
   "execution_count": null,
   "metadata": {},
   "outputs": [],
   "source": []
  }
 ],
 "metadata": {
  "kernelspec": {
   "display_name": "Python 3",
   "language": "python",
   "name": "python3"
  },
  "language_info": {
   "codemirror_mode": {
    "name": "ipython",
    "version": 3
   },
   "file_extension": ".py",
   "mimetype": "text/x-python",
   "name": "python",
   "nbconvert_exporter": "python",
   "pygments_lexer": "ipython3",
   "version": "3.6.5"
  }
 },
 "nbformat": 4,
 "nbformat_minor": 2
}
